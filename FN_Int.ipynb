{
 "cells": [
  {
   "cell_type": "code",
   "execution_count": null,
   "metadata": {},
   "outputs": [],
   "source": [
    "\"\"\"\n",
    "This is the Wang and Buszaki inteerneuron model implementation in Brian Simulator. The code is the example code given in the \n",
    "Brian Docs website. The model is stimulated using the frozen noise protocol. \n",
    "The input file used has a sampling rate of 20KHz and the simulation is run for 1 second. \n",
    "\"\"\""
   ]
  },
  {
   "cell_type": "code",
   "execution_count": null,
   "metadata": {},
   "outputs": [],
   "source": [
    "from brian2 import *\n",
    "import matplotlib.pyplot as plt\n",
    "import scipy.io as mat\n",
    "import numpy as np"
   ]
  },
  {
   "cell_type": "code",
   "execution_count": null,
   "metadata": {},
   "outputs": [],
   "source": [
    "I_theory = mat.loadmat(\"C:\\\\Users\\\\parih\\\\OneDrive\\\\Documents\\\\GitHub\\\\Microcircuit_Model\\\\input_inhibitory_tau_50_sampling_20_kHz.mat\")[\"input_theory_i\"]\n",
    "hidden_state = mat.loadmat(\"C:\\\\Users\\\\parih\\\\OneDrive\\\\Documents\\\\GitHub\\\\Microcircuit_Model\\\\input_inhibitory_tau_50_sampling_20_kHz.mat\")[\"hidden_state_i\"]\n",
    "I_scale = 2 #scaling factor for the input current - amplitude of the input current\n",
    "I_baseline = 0.3 #baseline current - mean of the input current \n",
    "I_theory = I_theory.flatten()\n",
    "Isyn_val = I_scale*I_theory+I_baseline\n",
    "dt = 0.05*ms #timestep = 1/sampling rate - should stay consistent over the entire simulation\n",
    "simtime = 1000*ms\n",
    "Iapp = TimedArray(Isyn_val*uA, dt=dt)"
   ]
  },
  {
   "cell_type": "code",
   "execution_count": null,
   "metadata": {},
   "outputs": [],
   "source": [
    "mean = np.mean(I_theory)\n",
    "amplitude = np.max(I_theory) - np.min(I_theory)\n",
    "print(mean,amplitude)"
   ]
  },
  {
   "cell_type": "code",
   "execution_count": null,
   "metadata": {},
   "outputs": [],
   "source": [
    "#parameters\n",
    "Cm = 1*uF \n",
    "iL = 0.1*msiemens\n",
    "vL = -65*mV\n",
    "vNa = 55*mV\n",
    "vK = -90*mV\n",
    "iNa = 35*msiemens\n",
    "iK = 9*msiemens\n",
    "\n",
    "#interneuron equations\n",
    "eqs = '''\n",
    "dv_int/dt = (-Il - INa - Ik + I)/Cm : volt\n",
    "Il = iL * (v_int - vL) : amp\n",
    "INa = iNa * m**3 * h * (v_int - vNa) : amp\n",
    "Ik = iK * n**4 * (v_int - vK) : amp\n",
    "m = alpham / (alpham + betam) : 1\n",
    "alpham = -0.1*(v_int/mV+35)/(exp(-0.1*(v_int/mV+35))-1)/ms : Hz\n",
    "betam = 4*exp(-(v_int/mV+60)/18)/ms : Hz\n",
    "dh/dt = 5 * (alphah * (1-h) - betah * h) : 1\n",
    "alphah = 0.07*exp(-(v_int/mV+58)/20)/ms : Hz\n",
    "betah = 1/(1+exp(-0.1*(v_int/mV+28)))/ms : Hz\n",
    "dn/dt = 5 * (alphan * (1-n) - betan * n) : 1\n",
    "alphan = -0.01*(v_int/mV+34)/(exp(-0.1*(v_int/mV+34))-1)/ms : Hz\n",
    "betan = 0.125*exp(-(v_int/mV+44)/80)/ms : Hz\n",
    "\n",
    "I = Iapp(t) : amp\n",
    "'''\n",
    "#create neuron groups\n",
    "neuron = NeuronGroup(1, eqs, threshold='v_int > -20*mV', method='euler', refractory=2 * ms,)\n",
    "neuron.v_int = -70*mV\n",
    "neuron.h = 1\n",
    "neuron.n = 0\n",
    "\n",
    "#set monitors\n",
    "M = StateMonitor(neuron, 'v_int', record=True) # or record=0.1*ms\n",
    "I = StateMonitor(neuron, 'I', record=True)\n",
    "S = SpikeMonitor(neuron)\n",
    "\n",
    "run(simtime)"
   ]
  },
  {
   "cell_type": "code",
   "execution_count": null,
   "metadata": {},
   "outputs": [],
   "source": [
    "subplot(311)\n",
    "plot(M.t/ms, M[0].v_int/mV)\n",
    "xlabel('Time (ms)')\n",
    "ylabel('Membrane Potential (mV)')\n",
    "plt.title('Wang and Buzsaki Interneuron Model')\n",
    "subplot(312)\n",
    "plot(I.t/ms, hidden_state[0:size(I.t)], color = 'black')\n",
    "xlabel('Time(ms)')\n",
    "ylabel('hidden state ')\n",
    "subplot(313)\t\n",
    "plot(I.t/ms, Isyn_val[:len(I.t/ms)]) \n",
    "xlabel('Time(ms)')\n",
    "ylabel('Input Current (nA)')\n"
   ]
  },
  {
   "cell_type": "code",
   "execution_count": null,
   "metadata": {},
   "outputs": [],
   "source": [
    "'firing rate = ' + str(size(S.t)/5000)"
   ]
  }
 ],
 "metadata": {
  "language_info": {
   "name": "python"
  }
 },
 "nbformat": 4,
 "nbformat_minor": 2
}
